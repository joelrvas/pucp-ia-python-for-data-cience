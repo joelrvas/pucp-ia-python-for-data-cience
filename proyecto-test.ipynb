{
 "cells": [
  {
   "cell_type": "markdown",
   "metadata": {},
   "source": [
    "# Data Pruebas\n",
    "DataSet: https://www.datosabiertos.gob.pe/dataset/centros-de-vacunacion\n",
    "Campo\tDescripción\tTipo de dato\tTamaño\n",
    "id_centro_vacunacion\tidentificador\tNumérico\t4\n",
    "id_ubigeo\tPuntero a tabla de tb_ubigeos\tNumérico \t4\n",
    "nombre\tNombre del Centro de Vacunación\tTexto\t\n",
    "entidad_administra\tEntidad que administra el Centro de Vacunación\tTexto\t\n",
    "latitud\tLatitud del Distrito\tNumérico\t14,8\n",
    "longitud\tLongitud del Distrito\tNumérico\t14,8"
   ]
  },
  {
   "cell_type": "code",
   "execution_count": 6,
   "metadata": {},
   "outputs": [
    {
     "data": {
      "text/html": [
       "<div>\n",
       "<style scoped>\n",
       "    .dataframe tbody tr th:only-of-type {\n",
       "        vertical-align: middle;\n",
       "    }\n",
       "\n",
       "    .dataframe tbody tr th {\n",
       "        vertical-align: top;\n",
       "    }\n",
       "\n",
       "    .dataframe thead th {\n",
       "        text-align: right;\n",
       "    }\n",
       "</style>\n",
       "<table border=\"1\" class=\"dataframe\">\n",
       "  <thead>\n",
       "    <tr style=\"text-align: right;\">\n",
       "      <th></th>\n",
       "      <th>id_centro_vacunacion</th>\n",
       "      <th>id_ubigeo</th>\n",
       "      <th>nombre</th>\n",
       "      <th>latitud</th>\n",
       "      <th>longitud</th>\n",
       "      <th>entidad_administra</th>\n",
       "      <th>id_eess</th>\n",
       "    </tr>\n",
       "  </thead>\n",
       "  <tbody>\n",
       "    <tr>\n",
       "      <th>0</th>\n",
       "      <td>119</td>\n",
       "      <td>459</td>\n",
       "      <td>I.E. Las Mercedes</td>\n",
       "      <td>-13.162139</td>\n",
       "      <td>-74.210698</td>\n",
       "      <td>DIRESA</td>\n",
       "      <td>0</td>\n",
       "    </tr>\n",
       "    <tr>\n",
       "      <th>1</th>\n",
       "      <td>120</td>\n",
       "      <td>444</td>\n",
       "      <td>Case Municipalidad De Huamanga</td>\n",
       "      <td>-13.149851</td>\n",
       "      <td>-74.227728</td>\n",
       "      <td>DIRESA</td>\n",
       "      <td>0</td>\n",
       "    </tr>\n",
       "    <tr>\n",
       "      <th>2</th>\n",
       "      <td>121</td>\n",
       "      <td>444</td>\n",
       "      <td>Ex. I.E. Guaman Poma De Ayala</td>\n",
       "      <td>-13.153746</td>\n",
       "      <td>-74.223992</td>\n",
       "      <td>DIRESA</td>\n",
       "      <td>0</td>\n",
       "    </tr>\n",
       "    <tr>\n",
       "      <th>3</th>\n",
       "      <td>122</td>\n",
       "      <td>444</td>\n",
       "      <td>MICRO RED LOS LICENCIADOS</td>\n",
       "      <td>-13.143203</td>\n",
       "      <td>-74.231197</td>\n",
       "      <td>DIRESA</td>\n",
       "      <td>0</td>\n",
       "    </tr>\n",
       "    <tr>\n",
       "      <th>4</th>\n",
       "      <td>123</td>\n",
       "      <td>447</td>\n",
       "      <td>Institucion Educativa Abrahan Valdelomar</td>\n",
       "      <td>-13.180507</td>\n",
       "      <td>-74.220856</td>\n",
       "      <td>DIRESA</td>\n",
       "      <td>0</td>\n",
       "    </tr>\n",
       "  </tbody>\n",
       "</table>\n",
       "</div>"
      ],
      "text/plain": [
       "   id_centro_vacunacion  id_ubigeo                                    nombre  \\\n",
       "0                   119        459                         I.E. Las Mercedes   \n",
       "1                   120        444            Case Municipalidad De Huamanga   \n",
       "2                   121        444             Ex. I.E. Guaman Poma De Ayala   \n",
       "3                   122        444                 MICRO RED LOS LICENCIADOS   \n",
       "4                   123        447  Institucion Educativa Abrahan Valdelomar   \n",
       "\n",
       "     latitud   longitud entidad_administra  id_eess  \n",
       "0 -13.162139 -74.210698             DIRESA        0  \n",
       "1 -13.149851 -74.227728             DIRESA        0  \n",
       "2 -13.153746 -74.223992             DIRESA        0  \n",
       "3 -13.143203 -74.231197             DIRESA        0  \n",
       "4 -13.180507 -74.220856             DIRESA        0  "
      ]
     },
     "execution_count": 6,
     "metadata": {},
     "output_type": "execute_result"
    }
   ],
   "source": [
    "import pandas as pd\n",
    "df = pd.read_csv('TB_CENTRO_VACUNACION.csv', delimiter=';')\n",
    "df.head()"
   ]
  }
 ],
 "metadata": {
  "kernelspec": {
   "display_name": "Python 3",
   "language": "python",
   "name": "python3"
  },
  "language_info": {
   "codemirror_mode": {
    "name": "ipython",
    "version": 3
   },
   "file_extension": ".py",
   "mimetype": "text/x-python",
   "name": "python",
   "nbconvert_exporter": "python",
   "pygments_lexer": "ipython3",
   "version": "3.10.12"
  }
 },
 "nbformat": 4,
 "nbformat_minor": 2
}
